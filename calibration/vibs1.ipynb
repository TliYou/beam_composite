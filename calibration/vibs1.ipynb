{
 "cells": [
  {
   "cell_type": "markdown",
   "metadata": {
    "collapsed": true
   },
   "source": [
    "# 2DOF Beam"
   ]
  },
  {
   "cell_type": "markdown",
   "metadata": {},
   "source": [
    "The general mathematical representation of a single degree of freedom system is expressed using Newton's second law. It is a linear, time invariant, second order differential equation.\n",
    "\n",
    "\\begin{equation}\n",
    "M \\ddot{x} \\left ( t \\right ) + C \\dot{x}\\left (t \\right ) + K x \\left (t \\right ) = f \\left (t \\right )\n",
    "\\end{equation}\n",
    "\n"
   ]
  },
  {
   "cell_type": "markdown",
   "metadata": {},
   "source": [
    "## Setup\n",
    "\n"
   ]
  },
  {
   "cell_type": "code",
   "execution_count": 29,
   "metadata": {
    "collapsed": true
   },
   "outputs": [],
   "source": [
    "import numpy as np\n",
    "from scipy import linalg as la\n",
    "\n",
    "show = lambda x,y: print('{}:\\n{}\\n'.format(x,y))"
   ]
  },
  {
   "cell_type": "markdown",
   "metadata": {},
   "source": [
    "## Build Beam\n",
    "\n"
   ]
  },
  {
   "cell_type": "code",
   "execution_count": 57,
   "metadata": {},
   "outputs": [
    {
     "name": "stdout",
     "output_type": "stream",
     "text": [
      "Mass matrix:\n",
      "[[ 5.40372671  0.        ]\n",
      " [ 0.          5.40372671]]\n",
      "\n",
      "Stiffness matrix:\n",
      "[[ 754.  -29.]\n",
      " [ -29.  754.]]\n",
      "\n"
     ]
    }
   ],
   "source": [
    "b = 1              # in\n",
    "h = 12             # in\n",
    "I = b*(h**3)/12       # in^4\n",
    "E = 29e6           # psi \n",
    "l = 100*12         # ft -> in\n",
    "grav = 386.4       # in/sec^2;\n",
    "mbar = b*h*.29     # vol * density -> lbf\n",
    "mbar = mbar/grav   # lbm\n",
    "\n",
    "# define discrete boundary springs\n",
    "k1 = E*I/(l**3) * 300\n",
    "k2 = E*I/l**3 * 300\n",
    "\n",
    "# form mass matrix, [M]\n",
    "M = mbar*l/2 * np.eye(2)\n",
    "\n",
    "# form stiffness matrix, [K] from beam and springs\n",
    "k = E*I/(l**3)  * np.array([[12, -12 ] , [-12, 12]])\n",
    "K = k + np.eye(2)*np.array([k1,k2]) \n",
    "\n",
    "\n",
    "show('Mass matrix',M)\n",
    "show('Stiffness matrix',K)\n",
    "\n",
    "# TODO: Add beam plot"
   ]
  },
  {
   "cell_type": "markdown",
   "metadata": {},
   "source": [
    "## Eigenvalue Decomposition\n",
    "\n",
    "\n",
    "\n",
    "Modal vectors and system poles (damped natural frequencies).\n",
    "\n",
    "Proportionally damped system - modal vectors are always real (normal) modes. Therefore, the conjugate of a modal vector is the same as the modal vector.\n"
   ]
  },
  {
   "cell_type": "code",
   "execution_count": 56,
   "metadata": {},
   "outputs": [
    {
     "name": "stdout",
     "output_type": "stream",
     "text": [
      "Eigenvalues:\n",
      "[ 134.16666667  144.9       ]\n",
      "\n",
      "Eigenvectors:\n",
      "[[-0.30418536 -0.30418536]\n",
      " [-0.30418536  0.30418536]]\n",
      "\n",
      "Decoupled Mass Matrix:\n",
      "[[ 1.  0.]\n",
      " [ 0.  1.]]\n",
      "\n",
      "Decoupled Stiffness Matrix:\n",
      "[[ 134.16666667    0.        ]\n",
      " [   0.          144.9       ]]\n",
      "\n"
     ]
    }
   ],
   "source": [
    "# decomposition (use hermetian for square matrices) \n",
    "d, v = la.eigh(K,M)\n",
    "\n",
    "# damped natural frequencies [rad/sec]\n",
    "w = np.sqrt(d)\n",
    "\n",
    "# decoupled mass and stiffness matrices\n",
    "# note that the two matrix multiplication's below are equivalent. \n",
    "Mr = np.dot(np.dot(v.T,M), v) # works but ugly\n",
    "Kr = v.T@K@v                  # works but only in python3.5+\n",
    "\n",
    "\n",
    "# proportional damping [5% critical]\n",
    "dampr = .05\n",
    "\n",
    "# damping factor [rad/sec]\n",
    "dampf = -dampr*w\n",
    "\n",
    "# damped natural frequency [rad/sec]\n",
    "wn = np.sqrt(w**2 + dampf**2)\n",
    "\n",
    "# form positive poles\n",
    "roots = dampf + 1j*wn\n",
    "\n",
    "\n",
    "show('Eigenvalues',d)\n",
    "show('Eigenvectors',v)\n",
    "show('Decoupled Mass Matrix', Mr)\n",
    "show('Decoupled Stiffness Matrix',Kr)"
   ]
  },
  {
   "cell_type": "markdown",
   "metadata": {},
   "source": [
    "TODO: add shape plots"
   ]
  },
  {
   "cell_type": "code",
   "execution_count": null,
   "metadata": {
    "collapsed": true
   },
   "outputs": [],
   "source": [
    "# plot mode shapes"
   ]
  },
  {
   "cell_type": "markdown",
   "metadata": {
    "collapsed": true
   },
   "source": [
    "## Transfer Function\n",
    "\n",
    "Form transfer function from partial fraction expansion form\n"
   ]
  },
  {
   "cell_type": "code",
   "execution_count": 54,
   "metadata": {
    "collapsed": true
   },
   "outputs": [],
   "source": [
    "\n",
    "# modal scaling, Qr\n",
    "qr = 1/(2j*-roots)\n",
    "\n",
    "# scaled residues [Ar] for each mode\n",
    "A = [qr[mode]*np.outer(v[:,mode],v[:,mode]) for mode in np.arange(v.shape[1])]\n",
    "\n",
    "# evaluate along frequency domain\n",
    "\n"
   ]
  },
  {
   "cell_type": "markdown",
   "metadata": {},
   "source": [
    "### Frequency Response Function (FRF) Plots\n",
    "\n"
   ]
  },
  {
   "cell_type": "code",
   "execution_count": null,
   "metadata": {
    "collapsed": true
   },
   "outputs": [],
   "source": []
  },
  {
   "cell_type": "markdown",
   "metadata": {},
   "source": [
    "## Shape Estimation (CMIF via SVD)\n",
    "\n"
   ]
  },
  {
   "cell_type": "code",
   "execution_count": null,
   "metadata": {
    "collapsed": true
   },
   "outputs": [],
   "source": []
  },
  {
   "cell_type": "markdown",
   "metadata": {},
   "source": [
    "## Pole Estimation (eFRF)\n",
    "\n"
   ]
  },
  {
   "cell_type": "code",
   "execution_count": null,
   "metadata": {
    "collapsed": true
   },
   "outputs": [],
   "source": []
  },
  {
   "cell_type": "markdown",
   "metadata": {},
   "source": [
    "## Modal Flexibility"
   ]
  },
  {
   "cell_type": "code",
   "execution_count": null,
   "metadata": {
    "collapsed": true
   },
   "outputs": [],
   "source": []
  }
 ],
 "metadata": {
  "kernelspec": {
   "display_name": "Python 3",
   "language": "python",
   "name": "python3"
  },
  "language_info": {
   "codemirror_mode": {
    "name": "ipython",
    "version": 3
   },
   "file_extension": ".py",
   "mimetype": "text/x-python",
   "name": "python",
   "nbconvert_exporter": "python",
   "pygments_lexer": "ipython3",
   "version": "3.6.1"
  }
 },
 "nbformat": 4,
 "nbformat_minor": 2
}
